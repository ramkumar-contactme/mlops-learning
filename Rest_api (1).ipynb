{
 "cells": [
  {
   "cell_type": "code",
   "execution_count": null,
   "id": "d8a12ae7-a71d-444c-8d3f-efbd89553c58",
   "metadata": {},
   "outputs": [],
   "source": [
    "import requests"
   ]
  },
  {
   "cell_type": "code",
   "execution_count": null,
   "id": "94e9f758-f013-4943-9355-6c0b15d2bda8",
   "metadata": {},
   "outputs": [],
   "source": [
    "URL = \"http://api.open-notify.org/iss-now.json\""
   ]
  },
  {
   "cell_type": "code",
   "execution_count": null,
   "id": "67f7ad3d-01e2-4284-aa5f-8aee384f1438",
   "metadata": {},
   "outputs": [],
   "source": [
    "response = requests.get(URL)"
   ]
  },
  {
   "cell_type": "code",
   "execution_count": null,
   "id": "e4388599-ccdc-47a5-a149-006be0b02e8f",
   "metadata": {},
   "outputs": [],
   "source": [
    "if response.ok:\n",
    "    result = response.json()\n",
    "    print(result)\n",
    "    lat = result.get('iss_position').get('latitude')\n",
    "    lng = result.get('iss_position').get('longitude')\n",
    "    print(f\"ISS is currently at {lat},{lng}\")"
   ]
  }
 ],
 "metadata": {
  "kernelspec": {
   "display_name": "Python 3 (ipykernel)",
   "language": "python",
   "name": "python3"
  },
  "language_info": {
   "codemirror_mode": {
    "name": "ipython",
    "version": 3
   },
   "file_extension": ".py",
   "mimetype": "text/x-python",
   "name": "python",
   "nbconvert_exporter": "python",
   "pygments_lexer": "ipython3",
   "version": "3.12.7"
  }
 },
 "nbformat": 4,
 "nbformat_minor": 5
}
