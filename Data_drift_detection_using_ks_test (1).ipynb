{
 "cells": [
  {
   "cell_type": "code",
   "execution_count": null,
   "id": "bcc64154-d97c-43fc-a2c0-b46e4e3111a4",
   "metadata": {},
   "outputs": [],
   "source": [
    "import numpy as np\n",
    "import pandas as pd\n",
    "import matplotlib.pyplot as plt\n",
    "import seaborn as sns\n",
    "from scipy.stats import ks_2samp"
   ]
  },
  {
   "cell_type": "code",
   "execution_count": null,
   "id": "08d45b46-2359-4210-812b-a00ae0f94b97",
   "metadata": {},
   "outputs": [],
   "source": [
    "# Example function to simulate data drift\n",
    "def generate_data(n=1000, drift=False):\n",
    "    np.random.seed(42)\n",
    "    if drift:\n",
    "        # Simulating drift by shifting the distribution\n",
    "        return np.random.normal(loc=0.5, scale=1, size=n)\n",
    "    else:\n",
    "        return np.random.normal(loc=0, scale=1, size=n)"
   ]
  },
  {
   "cell_type": "code",
   "execution_count": null,
   "id": "bc9c2264-1cc6-43f9-8031-848ff940958b",
   "metadata": {},
   "outputs": [],
   "source": [
    "# Generate two datasets: one with drift and one without\n",
    "data_before_drift = generate_data(n=1000, drift=False)\n",
    "data_after_drift = generate_data(n=1000, drift=True)"
   ]
  },
  {
   "cell_type": "code",
   "execution_count": null,
   "id": "feec06bb-aac2-4e6d-905a-d27c8e89f575",
   "metadata": {},
   "outputs": [],
   "source": [
    "# Convert to pandas DataFrames\n",
    "df_before = pd.DataFrame(data_before_drift, columns=['Feature'])\n",
    "df_after = pd.DataFrame(data_after_drift, columns=['Feature'])"
   ]
  },
  {
   "cell_type": "code",
   "execution_count": null,
   "id": "19d5b51f-9476-45de-9359-6013f5fdef2d",
   "metadata": {},
   "outputs": [],
   "source": [
    "# Plot histograms to visualize drift\n",
    "plt.figure(figsize=(12, 6))\n",
    "sns.histplot(df_before['Feature'], color='blue', label='Before Drift', kde=True, stat='density')\n",
    "sns.histplot(df_after['Feature'], color='red', label='After Drift', kde=True, stat='density')\n",
    "plt.legend()\n",
    "plt.title('Feature Distribution Before and After Drift')\n",
    "plt.xlabel('Feature Value')\n",
    "plt.ylabel('Density')\n",
    "plt.show()"
   ]
  },
  {
   "cell_type": "code",
   "execution_count": null,
   "id": "4aff9f64-34f1-4909-8e82-78595083a76a",
   "metadata": {},
   "outputs": [],
   "source": [
    "# Perform Kolmogorov-Smirnov test for distribution drift\n",
    "ks_stat, ks_p_value = ks_2samp(df_before['Feature'], df_after['Feature'])\n",
    "\n",
    "print(f'Kolmogorov-Smirnov test p-value: {ks_p_value}')"
   ]
  },
  {
   "cell_type": "code",
   "execution_count": null,
   "id": "dd34ed91-69ed-4f79-ac81-9f0285d58b13",
   "metadata": {},
   "outputs": [],
   "source": [
    "# Interpretation of KS test\n",
    "alpha = 0.05\n",
    "if ks_p_value < alpha:\n",
    "    print(\"Data drift detected (p-value < alpha)\")\n",
    "else:\n",
    "    print(\"No significant data drift detected (p-value >= alpha)\")"
   ]
  },
  {
   "cell_type": "code",
   "execution_count": null,
   "id": "a96b4f2c-a97e-4840-aeb0-4eb571b3ffd3",
   "metadata": {},
   "outputs": [],
   "source": []
  },
  {
   "cell_type": "code",
   "execution_count": null,
   "id": "fc6e42b2-44ad-406c-a593-7c212562b2c3",
   "metadata": {},
   "outputs": [],
   "source": []
  },
  {
   "cell_type": "code",
   "execution_count": null,
   "id": "2fc3fbde-2641-41c4-ac26-14c11eb69b8e",
   "metadata": {},
   "outputs": [],
   "source": []
  }
 ],
 "metadata": {
  "kernelspec": {
   "display_name": "Python 3 (ipykernel)",
   "language": "python",
   "name": "python3"
  },
  "language_info": {
   "codemirror_mode": {
    "name": "ipython",
    "version": 3
   },
   "file_extension": ".py",
   "mimetype": "text/x-python",
   "name": "python",
   "nbconvert_exporter": "python",
   "pygments_lexer": "ipython3",
   "version": "3.12.7"
  }
 },
 "nbformat": 4,
 "nbformat_minor": 5
}
