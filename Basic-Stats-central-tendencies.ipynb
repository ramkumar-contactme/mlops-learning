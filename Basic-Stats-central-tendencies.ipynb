{
 "cells": [
  {
   "cell_type": "code",
   "execution_count": 1,
   "metadata": {
    "executionInfo": {
     "elapsed": 2256,
     "status": "ok",
     "timestamp": 1614818928772,
     "user": {
      "displayName": "Ramesh S",
      "photoUrl": "https://lh3.googleusercontent.com/a-/AOh14GhcyrO625ledac3QTkwEA8TVcO485kGwWrloCtNrA=s64",
      "userId": "12785615939781378195"
     },
     "user_tz": -330
    },
    "id": "DRDaGhkWpRRD"
   },
   "outputs": [],
   "source": [
    "from numpy import mean, median, std, var      # importing Numpy Module for Statistical Calculaions\n",
    "from scipy.stats import mode\n",
    "import seaborn as sns                        # importing Seaborn for fancy charts and plots"
   ]
  },
  {
   "cell_type": "code",
   "execution_count": 2,
   "metadata": {
    "executionInfo": {
     "elapsed": 1725,
     "status": "ok",
     "timestamp": 1614818944655,
     "user": {
      "displayName": "Ramesh S",
      "photoUrl": "https://lh3.googleusercontent.com/a-/AOh14GhcyrO625ledac3QTkwEA8TVcO485kGwWrloCtNrA=s64",
      "userId": "12785615939781378195"
     },
     "user_tz": -330
    },
    "id": "hpZFHk-UpRRI"
   },
   "outputs": [],
   "source": [
    "section_a = [77,62,96,86,45,49,27,98,41,69,28,86,72,69,40,70,55,69,25,96,54,9,60,56,53,99,78,50,13,24]"
   ]
  },
  {
   "cell_type": "markdown",
   "metadata": {
    "id": "5u3vxVM2pRRN"
   },
   "source": [
    "## Central Tendencies"
   ]
  },
  {
   "cell_type": "markdown",
   "metadata": {
    "id": "dnyFb8etpRRO"
   },
   "source": [
    "### 1. Mean"
   ]
  },
  {
   "cell_type": "code",
   "execution_count": null,
   "metadata": {},
   "outputs": [],
   "source": []
  },
  {
   "cell_type": "code",
   "execution_count": 8,
   "metadata": {
    "colab": {
     "base_uri": "https://localhost:8080/"
    },
    "executionInfo": {
     "elapsed": 1485,
     "status": "ok",
     "timestamp": 1614818947624,
     "user": {
      "displayName": "Ramesh S",
      "photoUrl": "https://lh3.googleusercontent.com/a-/AOh14GhcyrO625ledac3QTkwEA8TVcO485kGwWrloCtNrA=s64",
      "userId": "12785615939781378195"
     },
     "user_tz": -330
    },
    "id": "f6qSMr5FpRRP",
    "outputId": "233f6a03-e52b-41bd-9714-1401f6c3b5d6"
   },
   "outputs": [
    {
     "data": {
      "text/plain": [
       "58.53333333333333"
      ]
     },
     "execution_count": 8,
     "metadata": {},
     "output_type": "execute_result"
    }
   ],
   "source": [
    "mean(section_a)              # Mean of  total marks"
   ]
  },
  {
   "cell_type": "markdown",
   "metadata": {
    "id": "d9Ajhr8TpRRR"
   },
   "source": [
    "### 2. Median"
   ]
  },
  {
   "cell_type": "code",
   "execution_count": 11,
   "metadata": {
    "colab": {
     "base_uri": "https://localhost:8080/"
    },
    "executionInfo": {
     "elapsed": 1540,
     "status": "ok",
     "timestamp": 1614818950460,
     "user": {
      "displayName": "Ramesh S",
      "photoUrl": "https://lh3.googleusercontent.com/a-/AOh14GhcyrO625ledac3QTkwEA8TVcO485kGwWrloCtNrA=s64",
      "userId": "12785615939781378195"
     },
     "user_tz": -330
    },
    "id": "bTwxp-mHpRRS",
    "outputId": "b996ec3c-0f26-441a-98a2-1012fb079a0a"
   },
   "outputs": [
    {
     "data": {
      "text/plain": [
       "58.0"
      ]
     },
     "execution_count": 11,
     "metadata": {},
     "output_type": "execute_result"
    }
   ],
   "source": [
    "median(section_a)            # Median of Total marks"
   ]
  },
  {
   "cell_type": "markdown",
   "metadata": {
    "id": "KQJLvkQ9pRRU"
   },
   "source": [
    "### 3. Mode"
   ]
  },
  {
   "cell_type": "markdown",
   "metadata": {
    "id": "JSoeCRoIpRRV"
   },
   "source": [
    "However, `numpy` does not directly support mode. It supports `scipy` as a dependency"
   ]
  },
  {
   "cell_type": "code",
   "execution_count": 15,
   "metadata": {
    "colab": {
     "base_uri": "https://localhost:8080/"
    },
    "executionInfo": {
     "elapsed": 1239,
     "status": "ok",
     "timestamp": 1614818953023,
     "user": {
      "displayName": "Ramesh S",
      "photoUrl": "https://lh3.googleusercontent.com/a-/AOh14GhcyrO625ledac3QTkwEA8TVcO485kGwWrloCtNrA=s64",
      "userId": "12785615939781378195"
     },
     "user_tz": -330
    },
    "id": "1FwJBrxepRRW",
    "outputId": "c4f58640-4d56-4ff4-895f-d40cbe00c8b0"
   },
   "outputs": [
    {
     "data": {
      "text/plain": [
       "ModeResult(mode=69, count=3)"
      ]
     },
     "execution_count": 15,
     "metadata": {},
     "output_type": "execute_result"
    }
   ],
   "source": [
    "mode(section_a)"
   ]
  },
  {
   "cell_type": "markdown",
   "metadata": {
    "id": "2mVZQ47VpRRY"
   },
   "source": [
    "It says most repeated value is $69$ and is repeated three times."
   ]
  },
  {
   "cell_type": "markdown",
   "metadata": {
    "id": "nwlX9Hi7pRRZ"
   },
   "source": [
    "## Spread/Dispersion"
   ]
  },
  {
   "cell_type": "markdown",
   "metadata": {
    "id": "My3OsLympRRa"
   },
   "source": [
    "### 1. Standard Deviation"
   ]
  },
  {
   "cell_type": "code",
   "execution_count": 20,
   "metadata": {
    "colab": {
     "base_uri": "https://localhost:8080/"
    },
    "executionInfo": {
     "elapsed": 923,
     "status": "ok",
     "timestamp": 1614818955990,
     "user": {
      "displayName": "Ramesh S",
      "photoUrl": "https://lh3.googleusercontent.com/a-/AOh14GhcyrO625ledac3QTkwEA8TVcO485kGwWrloCtNrA=s64",
      "userId": "12785615939781378195"
     },
     "user_tz": -330
    },
    "id": "Uf20RrAkpRRb",
    "outputId": "60def961-1e8d-4f1f-dd92-d3dbaa77fa16"
   },
   "outputs": [
    {
     "data": {
      "text/plain": [
       "24.983639090857483"
      ]
     },
     "execution_count": 20,
     "metadata": {},
     "output_type": "execute_result"
    }
   ],
   "source": [
    "std(section_a)             # Standard Deviation"
   ]
  },
  {
   "cell_type": "markdown",
   "metadata": {
    "id": "2XlWZHlvpRRg"
   },
   "source": [
    "### 2. Variance"
   ]
  },
  {
   "cell_type": "code",
   "execution_count": 23,
   "metadata": {
    "colab": {
     "base_uri": "https://localhost:8080/"
    },
    "executionInfo": {
     "elapsed": 920,
     "status": "ok",
     "timestamp": 1614818958368,
     "user": {
      "displayName": "Ramesh S",
      "photoUrl": "https://lh3.googleusercontent.com/a-/AOh14GhcyrO625ledac3QTkwEA8TVcO485kGwWrloCtNrA=s64",
      "userId": "12785615939781378195"
     },
     "user_tz": -330
    },
    "id": "3DTwRwPnpRRh",
    "outputId": "d6adb499-0094-4617-f755-5c3835d936df"
   },
   "outputs": [
    {
     "data": {
      "text/plain": [
       "624.1822222222222"
      ]
     },
     "execution_count": 23,
     "metadata": {},
     "output_type": "execute_result"
    }
   ],
   "source": [
    "var(section_a)"
   ]
  },
  {
   "cell_type": "markdown",
   "metadata": {
    "id": "pIeTbSM9pRRn"
   },
   "source": [
    "### Plotting the Data"
   ]
  },
  {
   "cell_type": "code",
   "execution_count": 26,
   "metadata": {
    "colab": {
     "base_uri": "https://localhost:8080/",
     "height": 336
    },
    "executionInfo": {
     "elapsed": 1213,
     "status": "ok",
     "timestamp": 1614818960936,
     "user": {
      "displayName": "Ramesh S",
      "photoUrl": "https://lh3.googleusercontent.com/a-/AOh14GhcyrO625ledac3QTkwEA8TVcO485kGwWrloCtNrA=s64",
      "userId": "12785615939781378195"
     },
     "user_tz": -330
    },
    "id": "ZXJVDcoMpRRt",
    "outputId": "b151d7ce-ed55-4121-9b12-f06b5ae8e6a5"
   },
   "outputs": [
    {
     "name": "stderr",
     "output_type": "stream",
     "text": [
      "C:\\Users\\Admin\\AppData\\Local\\Temp\\ipykernel_7016\\45776896.py:1: UserWarning: \n",
      "\n",
      "`distplot` is a deprecated function and will be removed in seaborn v0.14.0.\n",
      "\n",
      "Please adapt your code to use either `displot` (a figure-level function with\n",
      "similar flexibility) or `histplot` (an axes-level function for histograms).\n",
      "\n",
      "For a guide to updating your code to use the new functions, please see\n",
      "https://gist.github.com/mwaskom/de44147ed2974457ad6372750bbe5751\n",
      "\n",
      "  sns.distplot(section_a)\n"
     ]
    },
    {
     "data": {
      "text/plain": [
       "<Axes: ylabel='Density'>"
      ]
     },
     "execution_count": 26,
     "metadata": {},
     "output_type": "execute_result"
    },
    {
     "data": {
      "image/png": "[encoded data removed]",
      "text/plain": [
       "<Figure size 640x480 with 1 Axes>"
      ]
     },
     "metadata": {},
     "output_type": "display_data"
    }
   ],
   "source": [
    "sns.distplot(section_a)"
   ]
  },
  {
   "cell_type": "markdown",
   "metadata": {
    "id": "YJpEvrP_pRR0"
   },
   "source": [
    "**Similarly, if we plot for Section - B,**"
   ]
  },
  {
   "cell_type": "code",
   "execution_count": 29,
   "metadata": {
    "executionInfo": {
     "elapsed": 968,
     "status": "ok",
     "timestamp": 1614818987046,
     "user": {
      "displayName": "Ramesh S",
      "photoUrl": "https://lh3.googleusercontent.com/a-/AOh14GhcyrO625ledac3QTkwEA8TVcO485kGwWrloCtNrA=s64",
      "userId": "12785615939781378195"
     },
     "user_tz": -330
    },
    "id": "4B7OvBZXpRR1"
   },
   "outputs": [],
   "source": [
    "section_b = [73,63,82,65,56,56,53,70,83,96,80,97,66,50,73,67,66,71,82,98,66,40,43,57,75,60,26,54,63,58]"
   ]
  },
  {
   "cell_type": "markdown",
   "metadata": {
    "id": "idrEW4ICpRR6"
   },
   "source": [
    "### 1. Mean"
   ]
  },
  {
   "cell_type": "code",
   "execution_count": 31,
   "metadata": {
    "colab": {
     "base_uri": "https://localhost:8080/"
    },
    "executionInfo": {
     "elapsed": 578,
     "status": "ok",
     "timestamp": 1614818988366,
     "user": {
      "displayName": "Ramesh S",
      "photoUrl": "https://lh3.googleusercontent.com/a-/AOh14GhcyrO625ledac3QTkwEA8TVcO485kGwWrloCtNrA=s64",
      "userId": "12785615939781378195"
     },
     "user_tz": -330
    },
    "id": "appTLSo8pRR7",
    "outputId": "551c97a6-b59b-415b-898a-1d6cf1e22d2d"
   },
   "outputs": [
    {
     "data": {
      "text/plain": [
       "66.3"
      ]
     },
     "execution_count": 31,
     "metadata": {},
     "output_type": "execute_result"
    }
   ],
   "source": [
    "mean(section_b)"
   ]
  },
  {
   "cell_type": "markdown",
   "metadata": {
    "id": "HXT6GdfepRR_"
   },
   "source": [
    "### 2. Median"
   ]
  },
  {
   "cell_type": "code",
   "execution_count": 35,
   "metadata": {
    "colab": {
     "base_uri": "https://localhost:8080/"
    },
    "executionInfo": {
     "elapsed": 961,
     "status": "ok",
     "timestamp": 1614818991080,
     "user": {
      "displayName": "Ramesh S",
      "photoUrl": "https://lh3.googleusercontent.com/a-/AOh14GhcyrO625ledac3QTkwEA8TVcO485kGwWrloCtNrA=s64",
      "userId": "12785615939781378195"
     },
     "user_tz": -330
    },
    "id": "JC2_4kCTpRSA",
    "outputId": "2018979b-e34a-46da-b855-7b7be156ce1d"
   },
   "outputs": [
    {
     "data": {
      "text/plain": [
       "66.0"
      ]
     },
     "execution_count": 35,
     "metadata": {},
     "output_type": "execute_result"
    }
   ],
   "source": [
    "median(section_b)"
   ]
  },
  {
   "cell_type": "markdown",
   "metadata": {
    "id": "xcAvINrUpRSD"
   },
   "source": [
    "### 3. Mode"
   ]
  },
  {
   "cell_type": "code",
   "execution_count": 38,
   "metadata": {
    "colab": {
     "base_uri": "https://localhost:8080/"
    },
    "executionInfo": {
     "elapsed": 872,
     "status": "ok",
     "timestamp": 1614818993692,
     "user": {
      "displayName": "Ramesh S",
      "photoUrl": "https://lh3.googleusercontent.com/a-/AOh14GhcyrO625ledac3QTkwEA8TVcO485kGwWrloCtNrA=s64",
      "userId": "12785615939781378195"
     },
     "user_tz": -330
    },
    "id": "rob3kKv5pRSE",
    "outputId": "00267191-fe5f-4f7f-ef10-f1bdd8403195"
   },
   "outputs": [
    {
     "data": {
      "text/plain": [
       "ModeResult(mode=66, count=3)"
      ]
     },
     "execution_count": 38,
     "metadata": {},
     "output_type": "execute_result"
    }
   ],
   "source": [
    "mode(section_b)"
   ]
  },
  {
   "cell_type": "markdown",
   "metadata": {
    "id": "95p_ONc-pRSF"
   },
   "source": [
    "Mode is $66$ and is repeated three times"
   ]
  },
  {
   "cell_type": "markdown",
   "metadata": {
    "id": "oRGe0cGvpRSG"
   },
   "source": [
    "### 4. Standard Deviation"
   ]
  },
  {
   "cell_type": "code",
   "execution_count": 42,
   "metadata": {
    "id": "lxltut3NpRSH",
    "outputId": "eea96636-7009-4f08-c94b-882b53878570"
   },
   "outputs": [
    {
     "data": {
      "text/plain": [
       "16.20113164771729"
      ]
     },
     "execution_count": 42,
     "metadata": {},
     "output_type": "execute_result"
    }
   ],
   "source": [
    "std(section_b)"
   ]
  },
  {
   "cell_type": "markdown",
   "metadata": {
    "id": "5llAxtGmpRSJ"
   },
   "source": [
    "### 5. Variance"
   ]
  },
  {
   "cell_type": "code",
   "execution_count": 45,
   "metadata": {
    "id": "YWARB4D_pRSK",
    "outputId": "ad8e15e0-e47e-45a6-a648-b02778374162"
   },
   "outputs": [
    {
     "data": {
      "text/plain": [
       "262.4766666666667"
      ]
     },
     "execution_count": 45,
     "metadata": {},
     "output_type": "execute_result"
    }
   ],
   "source": [
    "var(section_b)"
   ]
  },
  {
   "cell_type": "markdown",
   "metadata": {
    "id": "oSD3uOKQpRSQ"
   },
   "source": [
    "## Plotting the Data"
   ]
  },
  {
   "cell_type": "code",
   "execution_count": 48,
   "metadata": {
    "id": "8ay4tfLRpRSS",
    "outputId": "dc75863c-a679-4d60-cd09-22c8061e9965"
   },
   "outputs": [
    {
     "name": "stderr",
     "output_type": "stream",
     "text": [
      "C:\\Users\\Admin\\AppData\\Local\\Temp\\ipykernel_7016\\4069090347.py:1: UserWarning: \n",
      "\n",
      "`distplot` is a deprecated function and will be removed in seaborn v0.14.0.\n",
      "\n",
      "Please adapt your code to use either `displot` (a figure-level function with\n",
      "similar flexibility) or `histplot` (an axes-level function for histograms).\n",
      "\n",
      "For a guide to updating your code to use the new functions, please see\n",
      "https://gist.github.com/mwaskom/de44147ed2974457ad6372750bbe5751\n",
      "\n",
      "  sns.distplot(section_b)\n"
     ]
    },
    {
     "data": {
      "text/plain": [
       "<Axes: ylabel='Density'>"
      ]
     },
     "execution_count": 48,
     "metadata": {},
     "output_type": "execute_result"
    },
    {
     "data": {
      "image/png": "[encoded data removed]",
      "text/plain": [
       "<Figure size 640x480 with 1 Axes>"
      ]
     },
     "metadata": {},
     "output_type": "display_data"
    }
   ],
   "source": [
    "sns.distplot(section_b)"
   ]
  },
  {
   "cell_type": "markdown",
   "metadata": {
    "id": "nL85CL98pRSW"
   },
   "source": [
    "The above results can be tabulated as:"
   ]
  },
  {
   "cell_type": "markdown",
   "metadata": {
    "id": "okLBF3GqpRSX"
   },
   "source": [
    "|Property|Class 7A | Class 7B |\n",
    "|------|-----------|------------|\n",
    "| Mean | $58.5$   | $66.3$     |\n",
    "| Median | $58$  | $66$     |\n",
    "| Mode | $69$, 3 times | $66$, 3 times |\n",
    "| Standard Deviation | $24.98$ | $16.2$ |\n",
    "| Variance | $624.2$ | $262.5$ |"
   ]
  },
  {
   "cell_type": "markdown",
   "metadata": {
    "id": "GVva5aABi7eD"
   },
   "source": [
    "### Exercise:\n",
    "\n",
    "Given are the samples of cricket ball weights produced by three companies. Choose the best company.\n",
    "\n",
    "A cricket ball can have an average weight of 160 grams."
   ]
  },
  {
   "cell_type": "code",
   "execution_count": 53,
   "metadata": {
    "id": "rMTLazp-pV7I"
   },
   "outputs": [],
   "source": [
    "a_co=[162, 161, 154, 166, 169, 156, 159, 165, 157, 159, 157, 166, 162, 159, 168, 167, 165, 165, 159, 165]"
   ]
  },
  {
   "cell_type": "code",
   "execution_count": 55,
   "metadata": {
    "id": "n0JVYHXNq7vJ"
   },
   "outputs": [],
   "source": [
    "b_co=[161, 159, 159, 160, 160, 161, 159, 158, 161, 160, 162, 159, 160, 161, 160, 159, 160, 162, 160, 161]"
   ]
  },
  {
   "cell_type": "code",
   "execution_count": 57,
   "metadata": {
    "id": "TuH7ovCcrgUc"
   },
   "outputs": [],
   "source": [
    "c_co=[154, 158, 159, 156, 159, 161, 160, 156, 157, 161, 156, 154, 159, 152, 160, 158, 154, 158, 157, 157]"
   ]
  },
  {
   "cell_type": "code",
   "execution_count": 58,
   "metadata": {},
   "outputs": [
    {
     "data": {
      "text/plain": [
       "(162.05, 162.0, ModeResult(mode=159, count=4), 4.271709259769442)"
      ]
     },
     "execution_count": 58,
     "metadata": {},
     "output_type": "execute_result"
    }
   ],
   "source": [
    "mean(a_co),median(a_co),mode(a_co),std(a_co)"
   ]
  },
  {
   "cell_type": "code",
   "execution_count": 61,
   "metadata": {},
   "outputs": [
    {
     "data": {
      "text/plain": [
       "(160.1, 160.0, ModeResult(mode=160, count=7), 1.0440306508910548)"
      ]
     },
     "execution_count": 61,
     "metadata": {},
     "output_type": "execute_result"
    }
   ],
   "source": [
    "mean(b_co),median(b_co),mode(b_co),std(b_co)"
   ]
  },
  {
   "cell_type": "code",
   "execution_count": 63,
   "metadata": {},
   "outputs": [
    {
     "data": {
      "text/plain": [
       "(157.3, 157.5, ModeResult(mode=154, count=3), 2.4310491562286436)"
      ]
     },
     "execution_count": 63,
     "metadata": {},
     "output_type": "execute_result"
    }
   ],
   "source": [
    "mean(c_co),median(c_co),mode(c_co),std(c_co)"
   ]
  },
  {
   "cell_type": "code",
   "execution_count": 69,
   "metadata": {},
   "outputs": [
    {
     "name": "stderr",
     "output_type": "stream",
     "text": [
      "C:\\Users\\Admin\\AppData\\Local\\Temp\\ipykernel_7016\\2331797445.py:1: UserWarning: \n",
      "\n",
      "`distplot` is a deprecated function and will be removed in seaborn v0.14.0.\n",
      "\n",
      "Please adapt your code to use either `displot` (a figure-level function with\n",
      "similar flexibility) or `histplot` (an axes-level function for histograms).\n",
      "\n",
      "For a guide to updating your code to use the new functions, please see\n",
      "https://gist.github.com/mwaskom/de44147ed2974457ad6372750bbe5751\n",
      "\n",
      "  sns.distplot(a_co)\n",
      "C:\\Users\\Admin\\AppData\\Local\\Temp\\ipykernel_7016\\2331797445.py:2: UserWarning: \n",
      "\n",
      "`distplot` is a deprecated function and will be removed in seaborn v0.14.0.\n",
      "\n",
      "Please adapt your code to use either `displot` (a figure-level function with\n",
      "similar flexibility) or `histplot` (an axes-level function for histograms).\n",
      "\n",
      "For a guide to updating your code to use the new functions, please see\n",
      "https://gist.github.com/mwaskom/de44147ed2974457ad6372750bbe5751\n",
      "\n",
      "  sns.distplot(b_co)\n",
      "C:\\Users\\Admin\\AppData\\Local\\Temp\\ipykernel_7016\\2331797445.py:3: UserWarning: \n",
      "\n",
      "`distplot` is a deprecated function and will be removed in seaborn v0.14.0.\n",
      "\n",
      "Please adapt your code to use either `displot` (a figure-level function with\n",
      "similar flexibility) or `histplot` (an axes-level function for histograms).\n",
      "\n",
      "For a guide to updating your code to use the new functions, please see\n",
      "https://gist.github.com/mwaskom/de44147ed2974457ad6372750bbe5751\n",
      "\n",
      "  sns.distplot(c_co)\n"
     ]
    },
    {
     "data": {
      "text/plain": [
       "<Axes: ylabel='Density'>"
      ]
     },
     "execution_count": 69,
     "metadata": {},
     "output_type": "execute_result"
    },
    {
     "data": {
      "image/png": "[encoded data removed]",
      "text/plain": [
       "<Figure size 640x480 with 1 Axes>"
      ]
     },
     "metadata": {},
     "output_type": "display_data"
    }
   ],
   "source": [
    "sns.distplot(a_co)\n",
    "sns.distplot(b_co)\n",
    "sns.distplot(c_co)"
   ]
  },
  {
   "cell_type": "code",
   "execution_count": 71,
   "metadata": {},
   "outputs": [],
   "source": [
    "import numpy as np"
   ]
  },
  {
   "cell_type": "code",
   "execution_count": 73,
   "metadata": {},
   "outputs": [
    {
     "data": {
      "text/plain": [
       "(97.1, 96.55)"
      ]
     },
     "execution_count": 73,
     "metadata": {},
     "output_type": "execute_result"
    }
   ],
   "source": [
    "np.percentile(section_a,95),np.percentile(section_b,95)"
   ]
  },
  {
   "cell_type": "code",
   "execution_count": null,
   "metadata": {},
   "outputs": [],
   "source": []
  }
 ],
 "metadata": {
  "colab": {
   "collapsed_sections": [],
   "name": "Basic-Stats-central-tendencies.ipynb",
   "provenance": []
  },
  "kernelspec": {
   "display_name": "Python 3 (ipykernel)",
   "language": "python",
   "name": "python3"
  },
  "language_info": {
   "codemirror_mode": {
    "name": "ipython",
    "version": 3
   },
   "file_extension": ".py",
   "mimetype": "text/x-python",
   "name": "python",
   "nbconvert_exporter": "python",
   "pygments_lexer": "ipython3",
   "version": "3.12.7"
  }
 },
 "nbformat": 4,
 "nbformat_minor": 4
}
