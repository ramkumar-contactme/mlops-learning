{
 "cells": [
  {
   "cell_type": "code",
   "execution_count": null,
   "id": "78511920-e0c0-4305-98ec-2d84c878c00a",
   "metadata": {},
   "outputs": [],
   "source": [
    "import pandas as pd"
   ]
  },
  {
   "cell_type": "code",
   "execution_count": null,
   "id": "60f9385b-8b47-41f9-ba1b-24e1a59bf7be",
   "metadata": {},
   "outputs": [],
   "source": [
    "df=pd.read_csv(\"iris.tsv\", sep='\\t')"
   ]
  },
  {
   "cell_type": "code",
   "execution_count": null,
   "id": "33f8355d-6db6-4d35-8bfd-46063a82fb7b",
   "metadata": {},
   "outputs": [],
   "source": [
    "df.head()"
   ]
  },
  {
   "cell_type": "code",
   "execution_count": null,
   "id": "ca366805-0cc2-4e71-9256-8d95594011c2",
   "metadata": {},
   "outputs": [],
   "source": [
    "df2 = pd.read_excel(\"iris.xlsx\")"
   ]
  },
  {
   "cell_type": "code",
   "execution_count": null,
   "id": "4b03972e-3548-4340-a923-379320b50851",
   "metadata": {},
   "outputs": [],
   "source": [
    "df2.head()"
   ]
  },
  {
   "cell_type": "code",
   "execution_count": null,
   "id": "bcdba9bc-6977-4652-8c66-7bd3111d4c05",
   "metadata": {},
   "outputs": [],
   "source": [
    "df3 = pd.read_json('iris.json', lines=True)"
   ]
  },
  {
   "cell_type": "code",
   "execution_count": null,
   "id": "cbb922aa-5620-44e6-8912-2b344e41944d",
   "metadata": {},
   "outputs": [],
   "source": [
    "df3.head()"
   ]
  },
  {
   "cell_type": "code",
   "execution_count": null,
   "id": "3f3b8fd3-87c1-4900-b741-2347c64bb721",
   "metadata": {},
   "outputs": [],
   "source": [
    "import sqlite3"
   ]
  },
  {
   "cell_type": "code",
   "execution_count": null,
   "id": "13866df5-b88b-4b48-87a2-d844519d2973",
   "metadata": {},
   "outputs": [],
   "source": [
    "conn = sqlite3.connect(\"data.db\")"
   ]
  },
  {
   "cell_type": "code",
   "execution_count": null,
   "id": "ef0577a6-bd0c-4587-a967-9902893448cc",
   "metadata": {},
   "outputs": [],
   "source": [
    "df4 = pd.read_sql(\"select * from iris\", con=conn)"
   ]
  },
  {
   "cell_type": "code",
   "execution_count": null,
   "id": "0af46963-a647-435e-9875-c5b2fdfbf9eb",
   "metadata": {},
   "outputs": [],
   "source": [
    "df4.head()"
   ]
  },
  {
   "cell_type": "code",
   "execution_count": null,
   "id": "f141d68e-9cff-4d08-b1c6-2788b115bb67",
   "metadata": {},
   "outputs": [],
   "source": [
    "conn.close()"
   ]
  },
  {
   "cell_type": "code",
   "execution_count": null,
   "id": "54e4ca70-5452-4463-8db1-d639a123df81",
   "metadata": {},
   "outputs": [],
   "source": []
  }
 ],
 "metadata": {
  "kernelspec": {
   "display_name": "Python 3 (ipykernel)",
   "language": "python",
   "name": "python3"
  },
  "language_info": {
   "codemirror_mode": {
    "name": "ipython",
    "version": 3
   },
   "file_extension": ".py",
   "mimetype": "text/x-python",
   "name": "python",
   "nbconvert_exporter": "python",
   "pygments_lexer": "ipython3",
   "version": "3.12.7"
  }
 },
 "nbformat": 4,
 "nbformat_minor": 5
}
