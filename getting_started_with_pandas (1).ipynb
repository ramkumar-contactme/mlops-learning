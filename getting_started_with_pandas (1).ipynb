{
 "cells": [
  {
   "cell_type": "code",
   "execution_count": null,
   "id": "1bfe84df-ccf7-417e-8d76-1129ee6e6ac2",
   "metadata": {},
   "outputs": [],
   "source": [
    "import pandas as pd"
   ]
  },
  {
   "cell_type": "code",
   "execution_count": null,
   "id": "cda6fd89-2d87-4872-b27d-85191e870f4b",
   "metadata": {},
   "outputs": [],
   "source": [
    "df=pd.read_csv(\"iris.csv\")"
   ]
  },
  {
   "cell_type": "code",
   "execution_count": null,
   "id": "3f34a52c-e8a1-48e2-93ca-738f2ee0fed0",
   "metadata": {},
   "outputs": [],
   "source": [
    "df.shape # check the number of rows and columns"
   ]
  },
  {
   "cell_type": "code",
   "execution_count": null,
   "id": "9f1d9b69-a59d-4ae9-bcbe-6c9a4a6a4fe6",
   "metadata": {},
   "outputs": [],
   "source": [
    "df.head()"
   ]
  },
  {
   "cell_type": "code",
   "execution_count": null,
   "id": "dc45f637-d06e-40c3-9422-6f46e52dbb08",
   "metadata": {},
   "outputs": [],
   "source": [
    "df.tail()"
   ]
  },
  {
   "cell_type": "code",
   "execution_count": null,
   "id": "657774e2-f5c1-46fd-945d-e2ea34df2948",
   "metadata": {},
   "outputs": [],
   "source": [
    "df.info()"
   ]
  },
  {
   "cell_type": "code",
   "execution_count": null,
   "id": "06bae55f-493b-462a-85c4-0c8481d5816a",
   "metadata": {},
   "outputs": [],
   "source": [
    "df.describe()"
   ]
  },
  {
   "cell_type": "code",
   "execution_count": null,
   "id": "9993ccd9-f77d-40db-b5e5-9a6efe2b59c3",
   "metadata": {},
   "outputs": [],
   "source": [
    "df.PetalWidthCm.mean()"
   ]
  },
  {
   "cell_type": "code",
   "execution_count": null,
   "id": "3932c047-cb6f-4801-a26b-9b363c8fab27",
   "metadata": {},
   "outputs": [],
   "source": [
    "df.PetalWidthCm.median()"
   ]
  },
  {
   "cell_type": "code",
   "execution_count": null,
   "id": "3d9a3aa3-b983-4623-b40e-9d5682ea190c",
   "metadata": {},
   "outputs": [],
   "source": [
    "df.Species.unique()"
   ]
  },
  {
   "cell_type": "code",
   "execution_count": null,
   "id": "94957494-f8fb-434a-bdab-35b633cb155a",
   "metadata": {},
   "outputs": [],
   "source": [
    "df.Species.value_counts()"
   ]
  },
  {
   "cell_type": "code",
   "execution_count": null,
   "id": "3d2a6ae9-46fe-4f09-a68e-b8a7209c73ca",
   "metadata": {},
   "outputs": [],
   "source": [
    "df.Species.value_counts().plot.bar()"
   ]
  },
  {
   "cell_type": "code",
   "execution_count": null,
   "id": "444f9d03-a13f-4293-ab1a-51d79b18c80a",
   "metadata": {},
   "outputs": [],
   "source": [
    "df.Species.value_counts().plot.barh()"
   ]
  },
  {
   "cell_type": "code",
   "execution_count": null,
   "id": "1d832c6a-bd24-477a-a1bd-baa1f0f19643",
   "metadata": {},
   "outputs": [],
   "source": [
    "df.Species.value_counts().plot.pie()"
   ]
  },
  {
   "cell_type": "code",
   "execution_count": null,
   "id": "cf763cf6-e8b2-4127-8bae-ff6ffd65ca88",
   "metadata": {},
   "outputs": [],
   "source": [
    "df.SepalLengthCm.hist()"
   ]
  },
  {
   "cell_type": "code",
   "execution_count": null,
   "id": "b34de270-81f6-440d-8b3f-89e258c7af91",
   "metadata": {},
   "outputs": [],
   "source": [
    "df.hist()"
   ]
  },
  {
   "cell_type": "code",
   "execution_count": null,
   "id": "f967e4b0-80e4-4e3d-9f17-b7bafc10142f",
   "metadata": {},
   "outputs": [],
   "source": []
  }
 ],
 "metadata": {
  "kernelspec": {
   "display_name": "Python 3 (ipykernel)",
   "language": "python",
   "name": "python3"
  },
  "language_info": {
   "codemirror_mode": {
    "name": "ipython",
    "version": 3
   },
   "file_extension": ".py",
   "mimetype": "text/x-python",
   "name": "python",
   "nbconvert_exporter": "python",
   "pygments_lexer": "ipython3",
   "version": "3.12.7"
  }
 },
 "nbformat": 4,
 "nbformat_minor": 5
}
