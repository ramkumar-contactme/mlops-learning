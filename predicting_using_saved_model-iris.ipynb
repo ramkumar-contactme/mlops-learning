{
 "cells": [
  {
   "cell_type": "markdown",
   "id": "6d041e49-11c1-4181-b772-71246143ff7f",
   "metadata": {},
   "source": [
    "# Load the model"
   ]
  },
  {
   "cell_type": "code",
   "execution_count": 12,
   "id": "014dd28c-49c3-4c82-856f-210d6e92c38e",
   "metadata": {},
   "outputs": [],
   "source": [
    "import pickle"
   ]
  },
  {
   "cell_type": "code",
   "execution_count": 14,
   "id": "e7a210c8-80c0-437c-956f-9d2cad745216",
   "metadata": {},
   "outputs": [],
   "source": [
    "f=open(\"iris.pkl\",'rb')"
   ]
  },
  {
   "cell_type": "code",
   "execution_count": 16,
   "id": "cb26c5e1-ca02-4534-98c1-3aa2e69e8c24",
   "metadata": {},
   "outputs": [],
   "source": [
    "model = pickle.load(f)"
   ]
  },
  {
   "cell_type": "code",
   "execution_count": 18,
   "id": "e8884acf-738f-46e6-a56c-d1ce0d141533",
   "metadata": {},
   "outputs": [],
   "source": [
    "f.close()"
   ]
  },
  {
   "cell_type": "markdown",
   "id": "546c803d-c8e0-4e9a-8190-9ef87ffe4470",
   "metadata": {},
   "source": [
    "# Make predictions"
   ]
  },
  {
   "cell_type": "code",
   "execution_count": 21,
   "id": "4d33f3de-5e96-4d48-926c-6c175376cd76",
   "metadata": {},
   "outputs": [
    {
     "name": "stderr",
     "output_type": "stream",
     "text": [
      "C:\\Users\\Admin\\anaconda3\\Lib\\site-packages\\sklearn\\base.py:493: UserWarning: X does not have valid feature names, but LogisticRegression was fitted with feature names\n",
      "  warnings.warn(\n"
     ]
    },
    {
     "data": {
      "text/plain": [
       "array(['Iris-virginica'], dtype=object)"
      ]
     },
     "execution_count": 21,
     "metadata": {},
     "output_type": "execute_result"
    }
   ],
   "source": [
    "model.predict([[3.4,4.3,4.5,2.3]])"
   ]
  },
  {
   "cell_type": "code",
   "execution_count": null,
   "id": "ed327776-0b4e-4b7d-90b6-cb5f8603fa4c",
   "metadata": {},
   "outputs": [],
   "source": []
  }
 ],
 "metadata": {
  "kernelspec": {
   "display_name": "Python 3 (ipykernel)",
   "language": "python",
   "name": "python3"
  },
  "language_info": {
   "codemirror_mode": {
    "name": "ipython",
    "version": 3
   },
   "file_extension": ".py",
   "mimetype": "text/x-python",
   "name": "python",
   "nbconvert_exporter": "python",
   "pygments_lexer": "ipython3",
   "version": "3.12.7"
  }
 },
 "nbformat": 4,
 "nbformat_minor": 5
}
