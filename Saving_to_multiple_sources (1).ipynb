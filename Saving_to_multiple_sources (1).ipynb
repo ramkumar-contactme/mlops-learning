{
 "cells": [
  {
   "cell_type": "code",
   "execution_count": null,
   "id": "78511920-e0c0-4305-98ec-2d84c878c00a",
   "metadata": {},
   "outputs": [],
   "source": [
    "import pandas as pd"
   ]
  },
  {
   "cell_type": "code",
   "execution_count": null,
   "id": "60f9385b-8b47-41f9-ba1b-24e1a59bf7be",
   "metadata": {},
   "outputs": [],
   "source": [
    "df=pd.read_csv(\"iris.csv\")"
   ]
  },
  {
   "cell_type": "code",
   "execution_count": null,
   "id": "ec454f27-095b-44bc-bb19-c71ce883a546",
   "metadata": {},
   "outputs": [],
   "source": [
    "df.to_csv(\"iris.tsv\", sep='\\t') # save as tab separated file"
   ]
  },
  {
   "cell_type": "code",
   "execution_count": null,
   "id": "ca366805-0cc2-4e71-9256-8d95594011c2",
   "metadata": {},
   "outputs": [],
   "source": [
    "df.to_excel(\"iris.xlsx\")"
   ]
  },
  {
   "cell_type": "code",
   "execution_count": null,
   "id": "bcdba9bc-6977-4652-8c66-7bd3111d4c05",
   "metadata": {},
   "outputs": [],
   "source": [
    "df.to_json('iris.json', orient='records', lines=True)"
   ]
  },
  {
   "cell_type": "code",
   "execution_count": null,
   "id": "3f3b8fd3-87c1-4900-b741-2347c64bb721",
   "metadata": {},
   "outputs": [],
   "source": [
    "import sqlite3"
   ]
  },
  {
   "cell_type": "code",
   "execution_count": null,
   "id": "13866df5-b88b-4b48-87a2-d844519d2973",
   "metadata": {},
   "outputs": [],
   "source": [
    "conn = sqlite3.connect(\"data.db\")"
   ]
  },
  {
   "cell_type": "code",
   "execution_count": null,
   "id": "ef0577a6-bd0c-4587-a967-9902893448cc",
   "metadata": {},
   "outputs": [],
   "source": [
    "df.to_sql(con=conn,name='iris', if_exists='replace')"
   ]
  },
  {
   "cell_type": "code",
   "execution_count": null,
   "id": "f141d68e-9cff-4d08-b1c6-2788b115bb67",
   "metadata": {},
   "outputs": [],
   "source": [
    "conn.close()"
   ]
  },
  {
   "cell_type": "code",
   "execution_count": null,
   "id": "54e4ca70-5452-4463-8db1-d639a123df81",
   "metadata": {},
   "outputs": [],
   "source": []
  }
 ],
 "metadata": {
  "kernelspec": {
   "display_name": "Python 3 (ipykernel)",
   "language": "python",
   "name": "python3"
  },
  "language_info": {
   "codemirror_mode": {
    "name": "ipython",
    "version": 3
   },
   "file_extension": ".py",
   "mimetype": "text/x-python",
   "name": "python",
   "nbconvert_exporter": "python",
   "pygments_lexer": "ipython3",
   "version": "3.12.7"
  }
 },
 "nbformat": 4,
 "nbformat_minor": 5
}
