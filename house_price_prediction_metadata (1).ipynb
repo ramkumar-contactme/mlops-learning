{
 "cells": [
  {
   "cell_type": "code",
   "execution_count": null,
   "id": "acfbdd92-3954-46b1-8604-23a1381a46fc",
   "metadata": {},
   "outputs": [],
   "source": [
    "# predict the price of house with 2000 sft and 3 rooms"
   ]
  },
  {
   "cell_type": "markdown",
   "id": "da72b16d-4bfc-4878-90e0-c231a60c7fc6",
   "metadata": {},
   "source": [
    "# Fetch the data"
   ]
  },
  {
   "cell_type": "code",
   "execution_count": null,
   "id": "47f091dc-ee09-4f73-9088-ac26dbaac71f",
   "metadata": {},
   "outputs": [],
   "source": [
    "import pandas as pd"
   ]
  },
  {
   "cell_type": "code",
   "execution_count": null,
   "id": "5389432a-4417-41e4-870c-6e7e87041426",
   "metadata": {},
   "outputs": [],
   "source": [
    "df=pd.read_csv(\"house-prices.csv\")"
   ]
  },
  {
   "cell_type": "markdown",
   "id": "4d574c20-61ff-45b7-96ac-e66a486ddf4f",
   "metadata": {},
   "source": [
    "# Analyze the data"
   ]
  },
  {
   "cell_type": "code",
   "execution_count": null,
   "id": "504cd351-7939-497c-8cbe-6c3e260a6071",
   "metadata": {},
   "outputs": [],
   "source": [
    "df.info()"
   ]
  },
  {
   "cell_type": "markdown",
   "id": "9f974970-3399-45e2-952b-0b8c2a20bc23",
   "metadata": {},
   "source": [
    "# Identify inputs and output"
   ]
  },
  {
   "cell_type": "code",
   "execution_count": null,
   "id": "380e8994-7239-4313-8752-63a735d948f2",
   "metadata": {},
   "outputs": [],
   "source": [
    "y = df.price # output, target\n",
    "X = df.drop(columns=['price']) # input, features"
   ]
  },
  {
   "cell_type": "code",
   "execution_count": null,
   "id": "42e18a44-77d7-43fa-a004-891888df9008",
   "metadata": {},
   "outputs": [],
   "source": [
    "X.head()"
   ]
  },
  {
   "cell_type": "markdown",
   "id": "daa8a3f1-d9de-4970-aa84-e2442e8245ce",
   "metadata": {},
   "source": [
    "# Choose an ML algorithm"
   ]
  },
  {
   "cell_type": "code",
   "execution_count": null,
   "id": "c5117637-422c-4f20-ab63-57a926c6b0bf",
   "metadata": {},
   "outputs": [],
   "source": [
    "from sklearn.linear_model import LinearRegression"
   ]
  },
  {
   "cell_type": "code",
   "execution_count": null,
   "id": "e58eb643-464d-4649-9000-062706ee7c5f",
   "metadata": {},
   "outputs": [],
   "source": [
    "model = LinearRegression()"
   ]
  },
  {
   "cell_type": "markdown",
   "id": "f3dc221c-37c8-4920-b5fb-709b0b1a7912",
   "metadata": {},
   "source": [
    "# Train the model"
   ]
  },
  {
   "cell_type": "code",
   "execution_count": null,
   "id": "cf6efc87-c2c0-4af9-975f-7484a826b8c8",
   "metadata": {},
   "outputs": [],
   "source": [
    "model.fit(X,y)"
   ]
  },
  {
   "cell_type": "markdown",
   "id": "7de83b4e-1772-42d2-b49d-708faf5f6b3a",
   "metadata": {},
   "source": [
    "# Evaluate the model"
   ]
  },
  {
   "cell_type": "code",
   "execution_count": null,
   "id": "e9aa5917-ac77-4829-8f83-69965609326f",
   "metadata": {},
   "outputs": [],
   "source": [
    "model.score(X,y)"
   ]
  },
  {
   "cell_type": "markdown",
   "id": "23c41259-6feb-496d-9be6-e821678bb79d",
   "metadata": {},
   "source": [
    "# Make predictions"
   ]
  },
  {
   "cell_type": "code",
   "execution_count": null,
   "id": "1078892c-968b-4704-8ed9-4aa60cecadea",
   "metadata": {},
   "outputs": [],
   "source": [
    "model.predict([[2000,3]])"
   ]
  },
  {
   "cell_type": "code",
   "execution_count": null,
   "id": "5507664f-c0d1-425a-953c-125a259e336b",
   "metadata": {},
   "outputs": [],
   "source": [
    "metadata = {\n",
    "    'desc': 'this model predicts the price of a house',\n",
    "    'version':2.0,\n",
    "    'accuracy':model.score(X,y),\n",
    "    'features':X.columns,\n",
    "    'type':type(model)\n",
    "}"
   ]
  },
  {
   "cell_type": "code",
   "execution_count": null,
   "id": "ea3dbda5-a0e6-496a-8af4-fe3ed5490406",
   "metadata": {},
   "outputs": [],
   "source": [
    "metadata"
   ]
  },
  {
   "cell_type": "markdown",
   "id": "04f298cb-ffcd-4afe-a3fe-004717e859e8",
   "metadata": {},
   "source": [
    "# Save the model and the metadata"
   ]
  },
  {
   "cell_type": "code",
   "execution_count": null,
   "id": "7c9e2d8b-85a9-4229-bfd1-6c2d5c6897e7",
   "metadata": {},
   "outputs": [],
   "source": [
    "import pickle"
   ]
  },
  {
   "cell_type": "code",
   "execution_count": null,
   "id": "56e5ea2e-72bc-4a6c-9281-5e94000a3def",
   "metadata": {},
   "outputs": [],
   "source": [
    "f=open(\"houseprice_model.pkl\",\"wb\")"
   ]
  },
  {
   "cell_type": "code",
   "execution_count": null,
   "id": "8f97c0e8-a492-4b79-87fb-87af293f8023",
   "metadata": {},
   "outputs": [],
   "source": [
    "pickle.dump(model,f)"
   ]
  },
  {
   "cell_type": "code",
   "execution_count": null,
   "id": "8b04c35e-c832-4083-8073-0874380633e2",
   "metadata": {},
   "outputs": [],
   "source": [
    "pickle.dump(metadata,f)"
   ]
  },
  {
   "cell_type": "code",
   "execution_count": null,
   "id": "638b3113-c13b-43d7-8b24-64cd43ddf1fb",
   "metadata": {},
   "outputs": [],
   "source": [
    "f.close()"
   ]
  },
  {
   "cell_type": "code",
   "execution_count": null,
   "id": "66b13e39-cb3d-4b42-9ff8-4da31f7bfbfb",
   "metadata": {},
   "outputs": [],
   "source": [
    "# Test by loading"
   ]
  },
  {
   "cell_type": "code",
   "execution_count": null,
   "id": "37d2bf4d-55d0-4804-b251-c1c0b82ac3c2",
   "metadata": {},
   "outputs": [],
   "source": [
    "f=open(\"houseprice_model.pkl\",\"rb\")"
   ]
  },
  {
   "cell_type": "code",
   "execution_count": null,
   "id": "1dc5cc02-20be-4c82-84b9-af6e717fa898",
   "metadata": {},
   "outputs": [],
   "source": [
    "mymodel = pickle.load(f)"
   ]
  },
  {
   "cell_type": "code",
   "execution_count": null,
   "id": "7de4d657-1d66-4862-af17-98e80c3a8d7e",
   "metadata": {},
   "outputs": [],
   "source": [
    "mymetadata = pickle.load(f)"
   ]
  },
  {
   "cell_type": "code",
   "execution_count": null,
   "id": "70c5628b-e081-4ac6-9b2c-8eab11728548",
   "metadata": {},
   "outputs": [],
   "source": [
    "f.close()"
   ]
  },
  {
   "cell_type": "code",
   "execution_count": null,
   "id": "d424dcee-8c8c-4b8e-8ef4-6dcb007e4638",
   "metadata": {},
   "outputs": [],
   "source": [
    "type(mymodel)"
   ]
  },
  {
   "cell_type": "code",
   "execution_count": null,
   "id": "ffd4467f-cd17-40ac-aaf8-e74afa76434e",
   "metadata": {},
   "outputs": [],
   "source": [
    "mymetadata"
   ]
  }
 ],
 "metadata": {
  "kernelspec": {
   "display_name": "Python 3 (ipykernel)",
   "language": "python",
   "name": "python3"
  },
  "language_info": {
   "codemirror_mode": {
    "name": "ipython",
    "version": 3
   },
   "file_extension": ".py",
   "mimetype": "text/x-python",
   "name": "python",
   "nbconvert_exporter": "python",
   "pygments_lexer": "ipython3",
   "version": "3.12.7"
  }
 },
 "nbformat": 4,
 "nbformat_minor": 5
}
