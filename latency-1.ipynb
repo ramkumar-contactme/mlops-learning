{
 "cells": [
  {
   "cell_type": "code",
   "execution_count": 1,
   "id": "f3b0db6d-aa52-4c3b-91a0-38ba152457e7",
   "metadata": {},
   "outputs": [],
   "source": [
    "from math import factorial"
   ]
  },
  {
   "cell_type": "code",
   "execution_count": 3,
   "id": "51fd52e3-d2ee-421b-959e-0be4ec10df00",
   "metadata": {},
   "outputs": [
    {
     "name": "stdout",
     "output_type": "stream",
     "text": [
      "103 ms ± 7.87 ms per loop (mean ± std. dev. of 7 runs, 10 loops each)\n"
     ]
    }
   ],
   "source": [
    "%%timeit\n",
    "a=factorial(40000)"
   ]
  },
  {
   "cell_type": "code",
   "execution_count": 5,
   "id": "fbe1800d-b989-459c-9e2c-4437222706b4",
   "metadata": {},
   "outputs": [
    {
     "name": "stdout",
     "output_type": "stream",
     "text": [
      "23.6 μs ± 308 ns per loop (mean ± std. dev. of 7 runs, 10,000 loops each)\n"
     ]
    }
   ],
   "source": [
    "%%timeit\n",
    "b=500**600"
   ]
  },
  {
   "cell_type": "code",
   "execution_count": 7,
   "id": "32bfbdf3-3980-4e88-84ec-5c03733f7725",
   "metadata": {},
   "outputs": [
    {
     "name": "stdout",
     "output_type": "stream",
     "text": [
      "23.9 μs ± 296 ns per loop (mean ± std. dev. of 7 runs, 10,000 loops each)\n"
     ]
    }
   ],
   "source": [
    "%%timeit\n",
    "b=500**600"
   ]
  },
  {
   "cell_type": "code",
   "execution_count": 11,
   "id": "40610c83-1506-4e11-82e3-ad82e012de19",
   "metadata": {},
   "outputs": [
    {
     "name": "stdout",
     "output_type": "stream",
     "text": [
      "303 μs ± 13.7 μs per loop (mean ± std. dev. of 7 runs, 1,000 loops each)\n"
     ]
    }
   ],
   "source": [
    "%%timeit\n",
    "import pickle\n",
    "f=open(\"bulk_experiences.txt\",'r')\n",
    "a=1\n",
    "f.close()"
   ]
  },
  {
   "cell_type": "code",
   "execution_count": null,
   "id": "c0891aee-95d2-4bdc-bba4-fff69e74fe82",
   "metadata": {},
   "outputs": [],
   "source": [
    "%%timeit\n",
    "b=500**600**222"
   ]
  },
  {
   "cell_type": "code",
   "execution_count": null,
   "id": "6f8a2924-20cb-4b0f-b106-d8170e41dfa5",
   "metadata": {},
   "outputs": [],
   "source": []
  }
 ],
 "metadata": {
  "kernelspec": {
   "display_name": "Python 3 (ipykernel)",
   "language": "python",
   "name": "python3"
  },
  "language_info": {
   "codemirror_mode": {
    "name": "ipython",
    "version": 3
   },
   "file_extension": ".py",
   "mimetype": "text/x-python",
   "name": "python",
   "nbconvert_exporter": "python",
   "pygments_lexer": "ipython3",
   "version": "3.12.7"
  }
 },
 "nbformat": 4,
 "nbformat_minor": 5
}
