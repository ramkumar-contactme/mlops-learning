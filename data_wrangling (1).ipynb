{
 "cells": [
  {
   "cell_type": "code",
   "execution_count": null,
   "id": "47f091dc-ee09-4f73-9088-ac26dbaac71f",
   "metadata": {},
   "outputs": [],
   "source": [
    "import pandas as pd"
   ]
  },
  {
   "cell_type": "code",
   "execution_count": null,
   "id": "5389432a-4417-41e4-870c-6e7e87041426",
   "metadata": {},
   "outputs": [],
   "source": [
    "df=pd.read_csv(\"loans-raw.csv\")"
   ]
  },
  {
   "cell_type": "code",
   "execution_count": null,
   "id": "d246670b-1ddd-4e52-9976-9fade4cb5fc0",
   "metadata": {},
   "outputs": [],
   "source": [
    "df.shape"
   ]
  },
  {
   "cell_type": "code",
   "execution_count": null,
   "id": "e2029113-2956-4382-9c9c-f10a896da7e5",
   "metadata": {},
   "outputs": [],
   "source": [
    "df.head()"
   ]
  },
  {
   "cell_type": "code",
   "execution_count": null,
   "id": "909461d7-ed6f-413a-945e-725493ea7ac4",
   "metadata": {},
   "outputs": [],
   "source": [
    "df['Dependents'].value_counts()"
   ]
  },
  {
   "cell_type": "code",
   "execution_count": null,
   "id": "e6871609-c58e-4ae1-bc06-1a3e0b444f9b",
   "metadata": {},
   "outputs": [],
   "source": [
    "df['Credit_History'].value_counts()"
   ]
  },
  {
   "cell_type": "markdown",
   "id": "27860246-4996-409b-b9f3-9668782a92f0",
   "metadata": {},
   "source": [
    "### Data Wrangling"
   ]
  },
  {
   "cell_type": "markdown",
   "id": "e3d4199b-869a-4fa9-9eef-bb01434b4889",
   "metadata": {},
   "source": [
    "#### Check for duplicates"
   ]
  },
  {
   "cell_type": "code",
   "execution_count": null,
   "id": "6389e015-225b-4558-ad6e-12eca36a9d52",
   "metadata": {},
   "outputs": [],
   "source": [
    "df.duplicated().sum()"
   ]
  },
  {
   "cell_type": "code",
   "execution_count": null,
   "id": "5fdd47b5-e778-4d65-81ef-7eb36ebef034",
   "metadata": {},
   "outputs": [],
   "source": [
    "df.drop_duplicates(inplace=True) # remove duplicates"
   ]
  },
  {
   "cell_type": "code",
   "execution_count": null,
   "id": "4e31e308-aef9-4655-94dd-653019dfef53",
   "metadata": {},
   "outputs": [],
   "source": [
    "df.duplicated().sum()"
   ]
  },
  {
   "cell_type": "markdown",
   "id": "dd86e6b3-9b60-492b-b1ff-546728aa5a08",
   "metadata": {},
   "source": [
    "#### Check for missing values"
   ]
  },
  {
   "cell_type": "code",
   "execution_count": null,
   "id": "03a37d17-286c-412b-8730-9bf6a1d5cbdf",
   "metadata": {},
   "outputs": [],
   "source": [
    "df.info()"
   ]
  },
  {
   "cell_type": "code",
   "execution_count": null,
   "id": "252ad28d-01a7-4a26-b4cc-aba379263dbf",
   "metadata": {},
   "outputs": [],
   "source": [
    "df.isna().sum()"
   ]
  },
  {
   "cell_type": "code",
   "execution_count": null,
   "id": "3cd948e3-4c02-4beb-ad02-4bb969f8aa02",
   "metadata": {},
   "outputs": [],
   "source": [
    "df2 = df.dropna() # drops all rows with missing data"
   ]
  },
  {
   "cell_type": "code",
   "execution_count": null,
   "id": "723d384a-deac-4673-9830-c0833852c995",
   "metadata": {},
   "outputs": [],
   "source": [
    "df2.shape"
   ]
  },
  {
   "cell_type": "code",
   "execution_count": null,
   "id": "51e06ea6-c65a-400d-8577-285b0eaab434",
   "metadata": {},
   "outputs": [],
   "source": [
    "483/618"
   ]
  },
  {
   "cell_type": "markdown",
   "id": "2c91bedb-2470-4a25-8684-7bb7f3083a1d",
   "metadata": {},
   "source": [
    "#### Impute missing values"
   ]
  },
  {
   "cell_type": "code",
   "execution_count": null,
   "id": "0b787843-6b62-4eab-be0c-9540be5b2a4b",
   "metadata": {},
   "outputs": [],
   "source": [
    "df.LoanAmount.fillna(df.LoanAmount.mean(), inplace=True)"
   ]
  },
  {
   "cell_type": "code",
   "execution_count": null,
   "id": "7e8116d3-8dbb-4f4a-a219-f55197dc804a",
   "metadata": {},
   "outputs": [],
   "source": [
    "df.isna().sum()"
   ]
  },
  {
   "cell_type": "code",
   "execution_count": null,
   "id": "c87c7cf3-92b9-4605-b6a4-37f3259ec295",
   "metadata": {},
   "outputs": [],
   "source": [
    "df.Married.value_counts()"
   ]
  },
  {
   "cell_type": "code",
   "execution_count": null,
   "id": "53c5282a-5194-4a13-9bb9-80cc363162c9",
   "metadata": {},
   "outputs": [],
   "source": [
    "df.Married.fillna('Yes', inplace=True)"
   ]
  },
  {
   "cell_type": "code",
   "execution_count": null,
   "id": "a3834786-e685-440a-bf14-f8e0ee915d0c",
   "metadata": {},
   "outputs": [],
   "source": [
    "df.Gender.fillna('MALE',inplace=True)"
   ]
  },
  {
   "cell_type": "markdown",
   "id": "e3f1034f-3684-471c-be46-b5eedac74b35",
   "metadata": {},
   "source": [
    "#### Normalization"
   ]
  },
  {
   "cell_type": "code",
   "execution_count": null,
   "id": "a243371a-6e1f-461b-bf84-9c4f44ca4a48",
   "metadata": {},
   "outputs": [],
   "source": [
    "df.Gender.value_counts()"
   ]
  },
  {
   "cell_type": "code",
   "execution_count": null,
   "id": "89960b3c-4d9a-46e9-a332-9c0ed1017318",
   "metadata": {},
   "outputs": [],
   "source": [
    "df['Gender'] = df.Gender.apply(str.upper)"
   ]
  },
  {
   "cell_type": "code",
   "execution_count": null,
   "id": "4e78d47b-c72d-49e2-8c7e-21221560964d",
   "metadata": {},
   "outputs": [],
   "source": [
    "df.Gender.value_counts()"
   ]
  },
  {
   "cell_type": "markdown",
   "id": "38c3d7ef-7791-4596-b762-c98fdefe52ee",
   "metadata": {},
   "source": [
    "#### Transform data"
   ]
  },
  {
   "cell_type": "code",
   "execution_count": null,
   "id": "1ef0c268-6b57-4e0a-956e-115ea82edf55",
   "metadata": {},
   "outputs": [],
   "source": [
    "df['LoanAmountINR'] = df.LoanAmount * 84"
   ]
  },
  {
   "cell_type": "code",
   "execution_count": null,
   "id": "f23321bd-df5c-418b-a841-b99fad752f80",
   "metadata": {},
   "outputs": [],
   "source": [
    "df.head()"
   ]
  },
  {
   "cell_type": "markdown",
   "id": "b6b244d1-7def-48b8-a539-01a6e5caf6bd",
   "metadata": {},
   "source": [
    "### save the data"
   ]
  },
  {
   "cell_type": "code",
   "execution_count": null,
   "id": "d5461f78-85ef-4e72-80bd-d6957a2d1f32",
   "metadata": {},
   "outputs": [],
   "source": [
    "df.to_csv(\"loans-cleaned.csv\", index=False)"
   ]
  },
  {
   "cell_type": "code",
   "execution_count": null,
   "id": "5460788d-fded-428c-bcf7-8775f8fbfb8f",
   "metadata": {},
   "outputs": [],
   "source": [
    "df.to_excel(\"loans-cleaned.xlsx\", index=False)"
   ]
  },
  {
   "cell_type": "code",
   "execution_count": null,
   "id": "2e38e852-4400-4f89-86cc-527fd5116ed7",
   "metadata": {},
   "outputs": [],
   "source": []
  }
 ],
 "metadata": {
  "kernelspec": {
   "display_name": "Python 3 (ipykernel)",
   "language": "python",
   "name": "python3"
  },
  "language_info": {
   "codemirror_mode": {
    "name": "ipython",
    "version": 3
   },
   "file_extension": ".py",
   "mimetype": "text/x-python",
   "name": "python",
   "nbconvert_exporter": "python",
   "pygments_lexer": "ipython3",
   "version": "3.12.7"
  }
 },
 "nbformat": 4,
 "nbformat_minor": 5
}
